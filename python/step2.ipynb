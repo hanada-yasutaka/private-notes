{
 "cells": [
  {
   "cell_type": "markdown",
   "metadata": {},
   "source": [
    "# step2: list, arrayを使ってみる\n",
    "\n",
    "python には 複数の要素を扱う為の方法として，list [], tuple (), set, dictionary {}の概念があります．\n",
    "list はC言語やfortrunで言う配列の上位概念に相当しますが，数値計算をする上でlistを配列として使うと計算速度が非常に遅くなります．\n",
    "この問題を回避するためにnumpy にあるarrayを使うことが一般的だと思います．\n",
    "\n",
    "ここではよく使うlist, numpy.arrayについて説明します． tuple, set, dictionaryも非常に便利な概念なのですが，ここでは触れません．\n",
    "\n",
    "## list篇\n",
    "\n",
    "list は 要素をひとつのグループにまとめたものでｂ"
   ]
  },
  {
   "cell_type": "code",
   "execution_count": 1,
   "metadata": {
    "collapsed": false
   },
   "outputs": [
    {
     "name": "stdout",
     "output_type": "stream",
     "text": [
      "[7, (2+3j), 1.0, 'abc', <function <lambda> at 0x7fc188074b70>]\n"
     ]
    }
   ],
   "source": [
    "list1 = [7, 2.0 + 3.j, 1.0, \"abc\", lambda x: x**2 ]\n",
    "print(list1)"
   ]
  },
  {
   "cell_type": "markdown",
   "metadata": {},
   "source": [
    "リストの要素は"
   ]
  },
  {
   "cell_type": "code",
   "execution_count": 2,
   "metadata": {
    "collapsed": false
   },
   "outputs": [
    {
     "data": {
      "text/plain": [
       "(7, 'abc')"
      ]
     },
     "execution_count": 2,
     "metadata": {},
     "output_type": "execute_result"
    }
   ],
   "source": [
    "list1[0], list1[3]"
   ]
  },
  {
   "cell_type": "code",
   "execution_count": 3,
   "metadata": {
    "collapsed": false
   },
   "outputs": [
    {
     "data": {
      "text/plain": [
       "(<function __main__.<lambda>>, 1.0)"
      ]
     },
     "execution_count": 3,
     "metadata": {},
     "output_type": "execute_result"
    }
   ],
   "source": [
    "list1[-1], list1[-3]"
   ]
  },
  {
   "cell_type": "markdown",
   "metadata": {},
   "source": [
    "のようにしてアクセスします．pythonはc言語と同じで配列のindexは0から始まります．\n",
    "また-1は配列の末尾を意味し，-を付けることで後ろからアクセスすることができます．\n",
    "\n",
    "\n",
    "リストの要素は異なる型を扱え，任意のオブジェクトを格納することができます．"
   ]
  },
  {
   "cell_type": "code",
   "execution_count": 4,
   "metadata": {
    "collapsed": false
   },
   "outputs": [
    {
     "name": "stdout",
     "output_type": "stream",
     "text": [
      "<class 'int'> 7\n",
      "<class 'complex'> (2+3j)\n",
      "<class 'float'> 1.0\n",
      "<class 'str'> abc\n",
      "<class 'function'> <function <lambda> at 0x7fc188074b70>\n"
     ]
    }
   ],
   "source": [
    "for x in list1:\n",
    "    print(type(x), x)"
   ]
  },
  {
   "cell_type": "markdown",
   "metadata": {},
   "source": [
    "for分はc言語のfor文と異なります．itatable(list, tuple, numpy.array等々)の0番目の要素ををxに代入し，for文の末尾にまで行くと1番目の要素をxに代入・・・，と繰り返します．要素のindex番号も同時に欲しい場合は"
   ]
  },
  {
   "cell_type": "code",
   "execution_count": 5,
   "metadata": {
    "collapsed": false
   },
   "outputs": [
    {
     "name": "stdout",
     "output_type": "stream",
     "text": [
      "0 7\n",
      "1 (2+3j)\n",
      "2 1.0\n",
      "3 abc\n",
      "4 <function <lambda> at 0x7fc188074b70>\n"
     ]
    }
   ],
   "source": [
    "for i, x in enumerate(list1):\n",
    "    print(i, x)"
   ]
  },
  {
   "cell_type": "markdown",
   "metadata": {},
   "source": [
    "とすると簡単です．要素の長さは"
   ]
  },
  {
   "cell_type": "code",
   "execution_count": 6,
   "metadata": {
    "collapsed": false
   },
   "outputs": [
    {
     "data": {
      "text/plain": [
       "5"
      ]
     },
     "execution_count": 6,
     "metadata": {},
     "output_type": "execute_result"
    }
   ],
   "source": [
    "len(list1)"
   ]
  },
  {
   "cell_type": "markdown",
   "metadata": {},
   "source": [
    "として調べることができます．listの要素を変更する場合は"
   ]
  },
  {
   "cell_type": "code",
   "execution_count": 7,
   "metadata": {
    "collapsed": false
   },
   "outputs": [
    {
     "name": "stdout",
     "output_type": "stream",
     "text": [
      "[3, (2+3j), 1.0, 'abc', <function <lambda> at 0x7fc188074b70>]\n"
     ]
    }
   ],
   "source": [
    "list1[0] = 3\n",
    "print(list1)"
   ]
  },
  {
   "cell_type": "markdown",
   "metadata": {},
   "source": [
    "とします．複数の要素にアクセスする場合は"
   ]
  },
  {
   "cell_type": "code",
   "execution_count": 8,
   "metadata": {
    "collapsed": false
   },
   "outputs": [
    {
     "name": "stdout",
     "output_type": "stream",
     "text": [
      "[1.0, 'abc', <function <lambda> at 0x7fc188074b70>]\n",
      "[1.0, 'abc']\n"
     ]
    }
   ],
   "source": [
    "print(list1[2: ])\n",
    "print(list1[2:-1])"
   ]
  },
  {
   "cell_type": "markdown",
   "metadata": {},
   "source": [
    "とします．詳しくは list[start: end: every] となっており， startは 詳しくは次を参照"
   ]
  },
  {
   "cell_type": "markdown",
   "metadata": {},
   "source": [
    "### listに対する演算\n",
    "\n",
    "listに対する演算は整数の乗法，listの加法演算が定義されています．"
   ]
  },
  {
   "cell_type": "code",
   "execution_count": 9,
   "metadata": {
    "collapsed": false
   },
   "outputs": [
    {
     "name": "stdout",
     "output_type": "stream",
     "text": [
      "[1, 1, 1, 1, 1] ['a', 'a', 'a']\n"
     ]
    }
   ],
   "source": [
    "x = [1] * 5\n",
    "y = [\"a\"] * 3\n",
    "print(x, y)"
   ]
  },
  {
   "cell_type": "code",
   "execution_count": 10,
   "metadata": {
    "collapsed": false
   },
   "outputs": [
    {
     "name": "stdout",
     "output_type": "stream",
     "text": [
      "[1, 3, 4, 'a', 'b', 'c']\n"
     ]
    }
   ],
   "source": [
    "x = [1, 3, 4]\n",
    "y = [\"a\", \"b\", \"c\"]\n",
    "print(x + y)"
   ]
  },
  {
   "cell_type": "markdown",
   "metadata": {},
   "source": [
    "が定義されています．"
   ]
  },
  {
   "cell_type": "markdown",
   "metadata": {},
   "source": [
    "加法に似たmethodにappendが有りますが，違うものです．"
   ]
  },
  {
   "cell_type": "code",
   "execution_count": 11,
   "metadata": {
    "collapsed": false
   },
   "outputs": [
    {
     "name": "stdout",
     "output_type": "stream",
     "text": [
      "[1, 3, 4, 'd']\n",
      "[1, 3, 4, 'd', ['e', 'f', 'g']]\n"
     ]
    }
   ],
   "source": [
    "x.append(\"d\")\n",
    "print(x)\n",
    "x.append([\"e\", \"f\", \"g\"]) \n",
    "print(x)"
   ]
  },
  {
   "cell_type": "markdown",
   "metadata": {
    "collapsed": true
   },
   "source": [
    "他にも，挿入，要素の取り出し等々が定義されています．ここを参照"
   ]
  },
  {
   "cell_type": "markdown",
   "metadata": {},
   "source": [
    "## numpy array 篇．\n",
    "\n",
    "数値計算を実行する上でlistを数値配列として用いる事も可能ですが，演算速度が非常に遅いという難点があります．\n",
    "恐らく通常はnumpy.arrayを使う事が一般的だと思います(他の最適な方法は聞いたことが無いです)．\n",
    "\n",
    "numpyのarrayを使うためにはnumpyをインストールする必要がありますが，anacondaを使用している場合はデフォルトでインストールされています．\n",
    "実際に使ってみます．"
   ]
  },
  {
   "cell_type": "code",
   "execution_count": 12,
   "metadata": {
    "collapsed": false
   },
   "outputs": [
    {
     "name": "stdout",
     "output_type": "stream",
     "text": [
      "[1 2 3]\n"
     ]
    }
   ],
   "source": [
    "import numpy as np\n",
    "x = np.array([1, 2, 3])\n",
    "print(x)"
   ]
  },
  {
   "cell_type": "markdown",
   "metadata": {},
   "source": [
    "arrayはlistの様に任意のobjectを格納することができます．"
   ]
  },
  {
   "cell_type": "code",
   "execution_count": 13,
   "metadata": {
    "collapsed": false
   },
   "outputs": [
    {
     "name": "stdout",
     "output_type": "stream",
     "text": [
      "[1 'a' <function <lambda> at 0x7fc188074ae8>]\n"
     ]
    }
   ],
   "source": [
    "y = np.array([1, \"a\", lambda x: x**2])\n",
    "print(y)"
   ]
  },
  {
   "cell_type": "markdown",
   "metadata": {},
   "source": [
    "### 四則演算\n",
    "numpy arrayはlistとは異なる四則演算が定義されています．"
   ]
  },
  {
   "cell_type": "code",
   "execution_count": 14,
   "metadata": {
    "collapsed": false
   },
   "outputs": [
    {
     "name": "stdout",
     "output_type": "stream",
     "text": [
      "[2 4 6] [0 0 0] [1 4 9] [ 1.  1.  1.]\n"
     ]
    }
   ],
   "source": [
    "a = np.array([1, 2, 3] ) + np.array([1, 2, 3])\n",
    "b = np.array([1, 2, 3] ) - np.array([1, 2, 3])\n",
    "c = np.array([1, 2, 3] ) * np.array([1, 2, 3])\n",
    "d = np.array([1, 2, 3] ) / np.array([1, 2, 3])\n",
    "print(a, b, c, d)"
   ]
  },
  {
   "cell_type": "markdown",
   "metadata": {},
   "source": [
    "但し異なる長さのarrayや配列内に数値以外のobjectが有る場合はその限りではありません．"
   ]
  },
  {
   "cell_type": "code",
   "execution_count": 15,
   "metadata": {
    "collapsed": false
   },
   "outputs": [
    {
     "ename": "ValueError",
     "evalue": "operands could not be broadcast together with shapes (3,) (4,) ",
     "output_type": "error",
     "traceback": [
      "\u001b[1;31m---------------------------------------------------------------------------\u001b[0m",
      "\u001b[1;31mValueError\u001b[0m                                Traceback (most recent call last)",
      "\u001b[1;32m<ipython-input-15-7e70c6185dc5>\u001b[0m in \u001b[0;36m<module>\u001b[1;34m()\u001b[0m\n\u001b[0;32m      1\u001b[0m \u001b[0mx\u001b[0m \u001b[1;33m=\u001b[0m \u001b[0mnp\u001b[0m\u001b[1;33m.\u001b[0m\u001b[0marray\u001b[0m\u001b[1;33m(\u001b[0m\u001b[1;33m[\u001b[0m\u001b[1;36m1\u001b[0m\u001b[1;33m,\u001b[0m \u001b[1;36m2\u001b[0m\u001b[1;33m,\u001b[0m \u001b[1;36m3\u001b[0m\u001b[1;33m]\u001b[0m\u001b[1;33m)\u001b[0m\u001b[1;33m\u001b[0m\u001b[0m\n\u001b[1;32m----> 2\u001b[1;33m \u001b[0mx\u001b[0m \u001b[1;33m+\u001b[0m \u001b[0mnp\u001b[0m\u001b[1;33m.\u001b[0m\u001b[0marray\u001b[0m\u001b[1;33m(\u001b[0m\u001b[1;33m[\u001b[0m\u001b[1;36m1\u001b[0m\u001b[1;33m,\u001b[0m \u001b[1;36m2\u001b[0m\u001b[1;33m,\u001b[0m \u001b[1;36m3\u001b[0m\u001b[1;33m,\u001b[0m \u001b[1;36m4\u001b[0m\u001b[1;33m]\u001b[0m\u001b[1;33m)\u001b[0m\u001b[1;33m\u001b[0m\u001b[0m\n\u001b[0m",
      "\u001b[1;31mValueError\u001b[0m: operands could not be broadcast together with shapes (3,) (4,) "
     ]
    }
   ],
   "source": [
    "x = np.array([1, 2, 3]) \n",
    "x + np.array([1, 2, 3, 4])"
   ]
  },
  {
   "cell_type": "code",
   "execution_count": 16,
   "metadata": {
    "collapsed": false
   },
   "outputs": [
    {
     "ename": "TypeError",
     "evalue": "ufunc 'add' did not contain a loop with signature matching types dtype('<U21') dtype('<U21') dtype('<U21')",
     "output_type": "error",
     "traceback": [
      "\u001b[1;31m---------------------------------------------------------------------------\u001b[0m",
      "\u001b[1;31mTypeError\u001b[0m                                 Traceback (most recent call last)",
      "\u001b[1;32m<ipython-input-16-ebe75e00bb21>\u001b[0m in \u001b[0;36m<module>\u001b[1;34m()\u001b[0m\n\u001b[1;32m----> 1\u001b[1;33m \u001b[0mx\u001b[0m \u001b[1;33m+\u001b[0m \u001b[0mnp\u001b[0m\u001b[1;33m.\u001b[0m\u001b[0marray\u001b[0m\u001b[1;33m(\u001b[0m\u001b[1;33m[\u001b[0m\u001b[1;34m\"a\"\u001b[0m\u001b[1;33m,\u001b[0m \u001b[1;34m\"b\"\u001b[0m\u001b[1;33m,\u001b[0m \u001b[1;34m\"c\"\u001b[0m\u001b[1;33m]\u001b[0m\u001b[1;33m)\u001b[0m\u001b[1;33m\u001b[0m\u001b[0m\n\u001b[0m",
      "\u001b[1;31mTypeError\u001b[0m: ufunc 'add' did not contain a loop with signature matching types dtype('<U21') dtype('<U21') dtype('<U21')"
     ]
    }
   ],
   "source": [
    "x + np.array([\"a\", \"b\", \"c\"])"
   ]
  },
  {
   "cell_type": "markdown",
   "metadata": {},
   "source": [
    "配列の要素へのアクセスは基本的にlistと同じです．"
   ]
  },
  {
   "cell_type": "code",
   "execution_count": 17,
   "metadata": {
    "collapsed": false
   },
   "outputs": [
    {
     "name": "stdout",
     "output_type": "stream",
     "text": [
      "2 10\n",
      "[3 5 7 9]\n"
     ]
    }
   ],
   "source": [
    "x = np.array([1,2,3,4,5,6,7,8,9,10])\n",
    "print(x[1], x[-1])\n",
    "print(x[2:-1:2])"
   ]
  },
  {
   "cell_type": "markdown",
   "metadata": {},
   "source": [
    "numpyは配列を操作するための様々な操作が用意されています．詳しくはをご参照下さい．"
   ]
  },
  {
   "cell_type": "markdown",
   "metadata": {},
   "source": [
    "### 多次元配列\n",
    "\n",
    "numpy arrayは多次元配列オブジェクトです．"
   ]
  },
  {
   "cell_type": "code",
   "execution_count": 18,
   "metadata": {
    "collapsed": false
   },
   "outputs": [
    {
     "name": "stdout",
     "output_type": "stream",
     "text": [
      "[[1 2 3]\n",
      " [4 5 6]]\n"
     ]
    }
   ],
   "source": [
    "x = np.array([[1, 2, 3], [4, 5, 6]])\n",
    "print(x)"
   ]
  },
  {
   "cell_type": "markdown",
   "metadata": {},
   "source": [
    "四則演算は各要素に対して定義されています．"
   ]
  },
  {
   "cell_type": "markdown",
   "metadata": {},
   "source": [
    "次元数や，要素の型は"
   ]
  },
  {
   "cell_type": "code",
   "execution_count": 19,
   "metadata": {
    "collapsed": false
   },
   "outputs": [
    {
     "data": {
      "text/plain": [
       "((2, 3), dtype('int64'))"
      ]
     },
     "execution_count": 19,
     "metadata": {},
     "output_type": "execute_result"
    }
   ],
   "source": [
    "x.shape, x.dtype"
   ]
  },
  {
   "cell_type": "markdown",
   "metadata": {},
   "source": [
    "として調べる事ができます．要素に一つでも浮動小数点や複素数があると"
   ]
  },
  {
   "cell_type": "code",
   "execution_count": 20,
   "metadata": {
    "collapsed": false
   },
   "outputs": [
    {
     "name": "stdout",
     "output_type": "stream",
     "text": [
      "float64 [ 1.  2.  3.]\n",
      "complex128 [ 1.+0.j  2.+0.j  3.+4.j]\n"
     ]
    }
   ],
   "source": [
    "x = np.array([1, 2, 3.0])\n",
    "y = np.array([1, 2, 3.0 + 4.0j])\n",
    "print(x.dtype, x)\n",
    "print(y.dtype, y)"
   ]
  },
  {
   "cell_type": "markdown",
   "metadata": {},
   "source": [
    "要素の型は代入されたものから変更されます．"
   ]
  },
  {
   "cell_type": "markdown",
   "metadata": {},
   "source": [
    "## 代入演算(=)に関する注意\n",
    "\n",
    "代入演算はオブジェクトのコピーではなく，アドレスをコピーします．\n",
    "何が言いたいかというとlist を = で代入すると"
   ]
  },
  {
   "cell_type": "code",
   "execution_count": 21,
   "metadata": {
    "collapsed": false
   },
   "outputs": [
    {
     "name": "stdout",
     "output_type": "stream",
     "text": [
      "[1, 2, 'a'] [1, 2, 'a']\n"
     ]
    }
   ],
   "source": [
    "list1 = [1, 2, 'a']\n",
    "list2 = list1\n",
    "print(list1, list2)"
   ]
  },
  {
   "cell_type": "markdown",
   "metadata": {},
   "source": [
    "と一見要素をコピーしているように見えますが"
   ]
  },
  {
   "cell_type": "code",
   "execution_count": 22,
   "metadata": {
    "collapsed": false
   },
   "outputs": [
    {
     "name": "stdout",
     "output_type": "stream",
     "text": [
      "[3, 2, 'a'] [3, 2, 'a']\n"
     ]
    }
   ],
   "source": [
    "list1[0] = 3\n",
    "print(list1, list2)"
   ]
  },
  {
   "cell_type": "markdown",
   "metadata": {},
   "source": [
    "list1に対する操作の影響がlist2にも及んでいます．これは = の演算が要素をコビーするのではなく，list1がのメモリーアドレスがlist1に代入されているのだと思います．\n",
    "配列の要素をコピーする場合は"
   ]
  },
  {
   "cell_type": "code",
   "execution_count": 23,
   "metadata": {
    "collapsed": false
   },
   "outputs": [
    {
     "name": "stdout",
     "output_type": "stream",
     "text": [
      "[4, 2, 3] [1, 2, 3]\n"
     ]
    }
   ],
   "source": [
    "list1 = [1, 2, 3]\n",
    "list2 = list1.copy()\n",
    "list1[0] = 4\n",
    "print(list1, list2)"
   ]
  },
  {
   "cell_type": "markdown",
   "metadata": {},
   "source": [
    "のようにします．このことはnumpy arrayも同様で"
   ]
  },
  {
   "cell_type": "code",
   "execution_count": 24,
   "metadata": {
    "collapsed": false
   },
   "outputs": [
    {
     "name": "stdout",
     "output_type": "stream",
     "text": [
      "[4 2 3] [4 2 3]\n"
     ]
    }
   ],
   "source": [
    "x = np.array([1, 2, 3])\n",
    "y = x\n",
    "x[0] = 4\n",
    "print(x, y)"
   ]
  },
  {
   "cell_type": "markdown",
   "metadata": {},
   "source": [
    "となります．numpyの場合"
   ]
  },
  {
   "cell_type": "code",
   "execution_count": 25,
   "metadata": {
    "collapsed": false
   },
   "outputs": [
    {
     "name": "stdout",
     "output_type": "stream",
     "text": [
      "[5 2 3] [4 2 3]\n"
     ]
    }
   ],
   "source": [
    "z = np.copy(x)\n",
    "x[0] = 5\n",
    "print(x, z)"
   ]
  },
  {
   "cell_type": "markdown",
   "metadata": {},
   "source": [
    "のようにします．"
   ]
  },
  {
   "cell_type": "markdown",
   "metadata": {},
   "source": [
    "## listとarrayの演算速度の比較*\n",
    "\n",
    "listを使うと計算速度が遅くなると言及しましたが具体的に比較してみます．\n",
    "いい例ではありませんが，長さを$s$のlist or array \n",
    "\\begin{equation}\n",
    "x_i = \\sum_{i=0}^{s} i\n",
    "\\end{equation}\n",
    "を構成し $y = \\sum_{i} x_i$を計算してみましょう．\n",
    "\n",
    "具体的に$x_i$や$y$は次のようにして与えます．"
   ]
  },
  {
   "cell_type": "code",
   "execution_count": 26,
   "metadata": {
    "collapsed": false
   },
   "outputs": [
    {
     "name": "stdout",
     "output_type": "stream",
     "text": [
      "0 [0] 0\n",
      "1 [0, 1] 1\n",
      "2 [0, 1, 3] 4\n",
      "3 [0, 1, 3, 6] 10\n",
      "4 [0, 1, 3, 6, 10] 20\n"
     ]
    }
   ],
   "source": [
    "x = [ ]\n",
    "res = 0\n",
    "for n in range(5):\n",
    "    res+=n\n",
    "    x.append(res)\n",
    "    y = sum(x)\n",
    "    print(n,x, y)"
   ]
  },
  {
   "cell_type": "markdown",
   "metadata": {},
   "source": [
    "ここでrange(x,y,z)はxから y-1までz間隔のitarableなオブジェクトです．rangeは"
   ]
  },
  {
   "cell_type": "code",
   "execution_count": 27,
   "metadata": {
    "collapsed": false
   },
   "outputs": [
    {
     "data": {
      "text/plain": [
       "range(0, 5)"
      ]
     },
     "execution_count": 27,
     "metadata": {},
     "output_type": "execute_result"
    }
   ],
   "source": [
    "range(5)"
   ]
  },
  {
   "cell_type": "markdown",
   "metadata": {},
   "source": [
    "となります． range(5) = [0, 1, 2, 3, 4] と思っていただいて構いません．sumは代入された要素の和を意味します．さてlistの要素はs増大とともに長くなるので和だけを計算しましょう．"
   ]
  },
  {
   "cell_type": "code",
   "execution_count": 28,
   "metadata": {
    "collapsed": false
   },
   "outputs": [],
   "source": [
    "def sum_by_list(s):\n",
    "    x = []\n",
    "    res = 0.0 + 0.j\n",
    "    for n in range(s):\n",
    "        res += n + n*1.j\n",
    "        x.append(res)\n",
    "        y = sum(x)\n",
    "    return y"
   ]
  },
  {
   "cell_type": "markdown",
   "metadata": {},
   "source": [
    "演算時間を稼ぐため毎度和を取り，要素は複素数にしておきます．ます．同じことをnumpyで定義しましょう．"
   ]
  },
  {
   "cell_type": "code",
   "execution_count": 29,
   "metadata": {
    "collapsed": false
   },
   "outputs": [],
   "source": [
    "def sum_by_array(s):\n",
    "    x = np.array([])\n",
    "    res = 0 + 0.j\n",
    "    for n in range(s):\n",
    "        res += n + n*1.j\n",
    "        x = np.append(x, res)\n",
    "        y = np.sum(x)\n",
    "    return y"
   ]
  },
  {
   "cell_type": "markdown",
   "metadata": {},
   "source": [
    "次に演算速度を測るための関数を定義しましょう．"
   ]
  },
  {
   "cell_type": "code",
   "execution_count": 30,
   "metadata": {
    "collapsed": true
   },
   "outputs": [],
   "source": [
    "import time\n",
    "def timing(func, x):\n",
    "    a = time.time()\n",
    "    res = func(x)\n",
    "    b = time.time()\n",
    "    return [b-a, res]"
   ]
  },
  {
   "cell_type": "code",
   "execution_count": 31,
   "metadata": {
    "collapsed": false
   },
   "outputs": [
    {
     "name": "stdout",
     "output_type": "stream",
     "text": [
      "list    : 0.02172 sec, res = (166666500+166666500j)\n",
      "array: 0.01684 sec, res = (166666500+166666500j)\n",
      "\n",
      "list    : 0.36702 sec, res = (20833332500+20833332500j)\n",
      "array: 0.07445 sec, res = (20833332500+20833332500j)\n",
      "\n",
      "list    : 1.43451 sec, res = (166666665000+166666665000j)\n",
      "array: 0.20108 sec, res = (166666665000+166666665000j)\n",
      "\n"
     ]
    }
   ],
   "source": [
    "for s in [1000, 5000, 10000]:    \n",
    "    a = timing(sum_by_list, s)\n",
    "    b = timing(sum_by_array, s)\n",
    "    print(\"list    : %.5f sec, res = %s\" % (a[0],a[1]) )\n",
    "    print(\"array: %.5f sec, res = %s\" % (b[0], b[1]) )\n",
    "    print()"
   ]
  },
  {
   "cell_type": "markdown",
   "metadata": {},
   "source": [
    "意図的に時間が掛かる実装にしましたが， 明らかにlistを使う方法は遅い事が分かります． なお，和の計算でnumpyのsumを使っていますが，\n",
    "pythonのsumを使うとさらに遅くなります．このあたりの詳しいことは機会があればどこかでまとめましょう．\n",
    "\n",
    "なにはともあれ数値演算に関してはnumpyで定義された関数を使うことが得策で，numpyを使いこなせるようになりましょう．"
   ]
  }
 ],
 "metadata": {
  "kernelspec": {
   "display_name": "Python 3",
   "language": "python",
   "name": "python3"
  },
  "language_info": {
   "codemirror_mode": {
    "name": "ipython",
    "version": 3
   },
   "file_extension": ".py",
   "mimetype": "text/x-python",
   "name": "python",
   "nbconvert_exporter": "python",
   "pygments_lexer": "ipython3",
   "version": "3.5.2"
  }
 },
 "nbformat": 4,
 "nbformat_minor": 0
}
