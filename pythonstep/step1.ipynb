{
 "cells": [
  {
   "cell_type": "markdown",
   "metadata": {},
   "source": [
    "# step1: pythonを高級電卓として\n",
    "\n",
    "\n",
    "このページを見るより[チュートリアル](http://docs.python.jp/3.5/tutorial/introduction.html)を見るほうが良いでしょう．\n",
    "ですが，チュートリアルはかなり長いのでここでは必要最低限の説明をします．\n",
    "\n",
    "## 四則等演算と型\n",
    "\n",
    "まず，以下ではpythonもしくはipythonが起動した対話環境にいる事を仮定して話を進めます．\n",
    "\n",
    "電卓として必要最低限の演算は四則演算であり，pythonでは以下の様にします"
   ]
  },
  {
   "cell_type": "code",
   "execution_count": 1,
   "metadata": {
    "collapsed": false
   },
   "outputs": [
    {
     "data": {
      "text/plain": [
       "3"
      ]
     },
     "execution_count": 1,
     "metadata": {},
     "output_type": "execute_result"
    }
   ],
   "source": [
    "1 + 2"
   ]
  },
  {
   "cell_type": "code",
   "execution_count": 2,
   "metadata": {
    "collapsed": false,
    "scrolled": true
   },
   "outputs": [
    {
     "data": {
      "text/plain": [
       "1"
      ]
     },
     "execution_count": 2,
     "metadata": {},
     "output_type": "execute_result"
    }
   ],
   "source": [
    "2 - 1"
   ]
  },
  {
   "cell_type": "code",
   "execution_count": 3,
   "metadata": {
    "collapsed": false
   },
   "outputs": [
    {
     "data": {
      "text/plain": [
       "12"
      ]
     },
     "execution_count": 3,
     "metadata": {},
     "output_type": "execute_result"
    }
   ],
   "source": [
    "3 * 4"
   ]
  },
  {
   "cell_type": "code",
   "execution_count": 4,
   "metadata": {
    "collapsed": false
   },
   "outputs": [
    {
     "data": {
      "text/plain": [
       "1.6666666666666667"
      ]
     },
     "execution_count": 4,
     "metadata": {},
     "output_type": "execute_result"
    }
   ],
   "source": [
    "5 / 3"
   ]
  },
  {
   "cell_type": "markdown",
   "metadata": {},
   "source": [
    "python 3系では除算(/)はfloatを返します．整数部(小数点以下切り捨て)は"
   ]
  },
  {
   "cell_type": "code",
   "execution_count": 5,
   "metadata": {
    "collapsed": false
   },
   "outputs": [
    {
     "data": {
      "text/plain": [
       "1"
      ]
     },
     "execution_count": 5,
     "metadata": {},
     "output_type": "execute_result"
    }
   ],
   "source": [
    "5 // 3"
   ]
  },
  {
   "cell_type": "markdown",
   "metadata": {},
   "source": [
    "とします．しかし負符号の場合は小さい値に丸められるので注意して下さい([参照](http://docs.python.jp/3/faq/programming.html?highlight=%E6%BC%94%E7%AE%97%E5%AD%90#why-does-22-10-return-3))．"
   ]
  },
  {
   "cell_type": "code",
   "execution_count": 6,
   "metadata": {
    "collapsed": false
   },
   "outputs": [
    {
     "data": {
      "text/plain": [
       "-2"
      ]
     },
     "execution_count": 6,
     "metadata": {},
     "output_type": "execute_result"
    }
   ],
   "source": [
    "- 5 // 3"
   ]
  },
  {
   "cell_type": "markdown",
   "metadata": {},
   "source": [
    "べき乗(**)，剰余(%)はそれぞれ"
   ]
  },
  {
   "cell_type": "code",
   "execution_count": 7,
   "metadata": {
    "collapsed": false,
    "scrolled": true
   },
   "outputs": [
    {
     "data": {
      "text/plain": [
       "9"
      ]
     },
     "execution_count": 7,
     "metadata": {},
     "output_type": "execute_result"
    }
   ],
   "source": [
    "3 ** 2"
   ]
  },
  {
   "cell_type": "code",
   "execution_count": 8,
   "metadata": {
    "collapsed": false
   },
   "outputs": [
    {
     "data": {
      "text/plain": [
       "1"
      ]
     },
     "execution_count": 8,
     "metadata": {},
     "output_type": "execute_result"
    }
   ],
   "source": [
    "5 % 2 # 2で割った際の余り"
   ]
  },
  {
   "cell_type": "markdown",
   "metadata": {},
   "source": [
    "で与えられます． \n",
    "pythonにおいて演算子は関数であり対応関係は[演算子から関数への対応表](http://docs.python.jp/3/library/operator.html?highlight=%E6%BC%94%E7%AE%97%E5%AD%90#module-operator)を参照下さい．\n",
    "\n",
    "なお# より右側はコメントアウトされます．\n",
    "\n",
    "    \"\"\"\n",
    "    複数行のコメントアウトは\n",
    "    ダブルコーテーション(\") もしくは シングルコーテション (') を３つ続けることによって実現されます．\n",
    "    ここはコメントアウトされています\n",
    "    \"\"\""
   ]
  },
  {
   "cell_type": "markdown",
   "metadata": {},
   "source": [
    "変数への代入演算(=)は"
   ]
  },
  {
   "cell_type": "code",
   "execution_count": 9,
   "metadata": {
    "collapsed": false
   },
   "outputs": [],
   "source": [
    "x = 3\n",
    "y = 5"
   ]
  },
  {
   "cell_type": "markdown",
   "metadata": {},
   "source": [
    "または"
   ]
  },
  {
   "cell_type": "code",
   "execution_count": 10,
   "metadata": {
    "collapsed": false
   },
   "outputs": [],
   "source": [
    "x, y = 1, 3"
   ]
  },
  {
   "cell_type": "markdown",
   "metadata": {},
   "source": [
    "とします．代入操作ではターミナルに結果が出力されない(式(expression)ではなく文(statemant)なので)．\n",
    "代入結果を見たい場合はprint関数を使います"
   ]
  },
  {
   "cell_type": "code",
   "execution_count": 11,
   "metadata": {
    "collapsed": false
   },
   "outputs": [
    {
     "name": "stdout",
     "output_type": "stream",
     "text": [
      "1 3\n"
     ]
    }
   ],
   "source": [
    "print(x, y)"
   ]
  },
  {
   "cell_type": "markdown",
   "metadata": {},
   "source": [
    "とします．ちなみに対話モードでは 最後の出力は( _ )に代入されています．"
   ]
  },
  {
   "cell_type": "code",
   "execution_count": 12,
   "metadata": {
    "collapsed": false
   },
   "outputs": [
    {
     "data": {
      "text/plain": [
       "0.3333333333333333"
      ]
     },
     "execution_count": 12,
     "metadata": {},
     "output_type": "execute_result"
    }
   ],
   "source": [
    "x / y"
   ]
  },
  {
   "cell_type": "code",
   "execution_count": 13,
   "metadata": {
    "collapsed": false
   },
   "outputs": [
    {
     "data": {
      "text/plain": [
       "1.0"
      ]
     },
     "execution_count": 13,
     "metadata": {},
     "output_type": "execute_result"
    }
   ],
   "source": [
    "_ * 3"
   ]
  },
  {
   "cell_type": "markdown",
   "metadata": {},
   "source": [
    "のように利用することができます(Mathematica の % に相当). \n",
    "アンダースコア (_) を変数として使用することも可能ですが使用すべきではないでしょう．\n",
    "\n",
    "\n",
    "これらの例題から分かる通り，pythonにはcやfortrunにおける明示的な変数の宣言は必要有りません．しかしながら，implicitに型が存在します．型を調べるためには，[type](http://docs.python.jp/3.5/library/functions.html?highlight=type#type)を使います．"
   ]
  },
  {
   "cell_type": "code",
   "execution_count": 14,
   "metadata": {
    "collapsed": false
   },
   "outputs": [
    {
     "data": {
      "text/plain": [
       "(int, float, complex, str)"
      ]
     },
     "execution_count": 14,
     "metadata": {},
     "output_type": "execute_result"
    }
   ],
   "source": [
    "x = 1\n",
    "y = 2.2\n",
    "z = x + 1.j * y\n",
    "w = \"abcd\"\n",
    "type(x), type(y), type(z), type(w)"
   ]
  },
  {
   "cell_type": "markdown",
   "metadata": {},
   "source": [
    "左から順に，整数，浮動小数点，複素数，文字列の型を示しています．\n",
    "pythonで虚数単位は j です．\n",
    "より詳しい組み込み型は[4.組み込み型](http://docs.python.jp/3.5/library/stdtypes.html#printf-style-string-formatting)を参照下さい．\n",
    "\n",
    "なおtypeはpythonにおけるオブジェクト指向プログラミングで基礎概念ですが，ここでは深入りしません．\n",
    "\n",
    "恐らく今後も深入りしないのでオブジェクト指向プログラミングについて一言．\n",
    "私の通った道はO'Reillyから出版されている[「初めてのpython」](https://www.oreilly.co.jp/books/9784873113937/)の中程に有るオブジェクト指向の章(基礎，応用)を熟読するとなんとなく理解した気になり，後は設計と実装，他人のコードを読む事を繰り返す事で身につけた気になりました．\n",
    "(今更ですがプログラミングは独学自己流なので一般的なことは分かりません．関数型プログラミングも好物です．\n",
    "設計思想については[The UNIX Philosophi: UNIXという考え方](https://www.amazon.co.jp/UNIX%E3%81%A8%E3%81%84%E3%81%86%E8%80%83%E3%81%88%E6%96%B9%E2%80%95%E3%81%9D%E3%81%AE%E8%A8%AD%E8%A8%88%E6%80%9D%E6%83%B3%E3%81%A8%E5%93%B2%E5%AD%A6-Mike-Gancarz/dp/4274064069)の影響を受けています．)\n",
    "\n",
    "\n",
    "\n",
    "## 関数\n",
    "\n",
    "関数の定義は以下の様にします"
   ]
  },
  {
   "cell_type": "code",
   "execution_count": 15,
   "metadata": {
    "collapsed": false
   },
   "outputs": [],
   "source": [
    "def f(x):\n",
    "    return x ** 2"
   ]
  },
  {
   "cell_type": "code",
   "execution_count": 16,
   "metadata": {
    "collapsed": false
   },
   "outputs": [
    {
     "data": {
      "text/plain": [
       "(4, 9.0, (12+16j))"
      ]
     },
     "execution_count": 16,
     "metadata": {},
     "output_type": "execute_result"
    }
   ],
   "source": [
    "f(2), f(3.0), f(4.0+2.j)"
   ]
  },
  {
   "cell_type": "markdown",
   "metadata": {},
   "source": [
    "def 以下の行は半角スペース4つ(タブ)のインデントが必要です．(ipythonを対話モードで使用している場合は自動でインデントを下げてくれます)．\n",
    "エディタによってはタブがスペース2つ分であったり8つであったりするのできちんと設定しましょう．\n",
    "        \n",
    "関数の引数や返り値の方は自動的に定まります．\n",
    "なくても構いませんがType Hint (強制力のないannotation)を加筆した方がコードの可読性を高めます．"
   ]
  },
  {
   "cell_type": "code",
   "execution_count": 17,
   "metadata": {
    "collapsed": false
   },
   "outputs": [
    {
     "data": {
      "text/plain": [
       "4.0"
      ]
     },
     "execution_count": 17,
     "metadata": {},
     "output_type": "execute_result"
    }
   ],
   "source": [
    "def f(x: float) -> float:\n",
    "    return x ** 2\n",
    "\n",
    "f(2.0)"
   ]
  },
  {
   "cell_type": "markdown",
   "metadata": {},
   "source": [
    "但し強制力はありません"
   ]
  },
  {
   "cell_type": "code",
   "execution_count": 18,
   "metadata": {
    "collapsed": false
   },
   "outputs": [
    {
     "data": {
      "text/plain": [
       "(-3-4j)"
      ]
     },
     "execution_count": 18,
     "metadata": {},
     "output_type": "execute_result"
    }
   ],
   "source": [
    "f(1 - 2.j) "
   ]
  },
  {
   "cell_type": "markdown",
   "metadata": {},
   "source": [
    "指定した型以外の引数を受け付けないようにするためには"
   ]
  },
  {
   "cell_type": "code",
   "execution_count": 19,
   "metadata": {
    "collapsed": true
   },
   "outputs": [],
   "source": [
    "def f(x: int) -> int:\n",
    "    if not isinstance(x, int):\n",
    "        raise TypeError(\"x must be an integer\")\n",
    "    else:\n",
    "        return x ** 2 "
   ]
  },
  {
   "cell_type": "code",
   "execution_count": 20,
   "metadata": {
    "collapsed": false
   },
   "outputs": [
    {
     "data": {
      "text/plain": [
       "9"
      ]
     },
     "execution_count": 20,
     "metadata": {},
     "output_type": "execute_result"
    }
   ],
   "source": [
    "f(3)"
   ]
  },
  {
   "cell_type": "code",
   "execution_count": 21,
   "metadata": {
    "collapsed": false
   },
   "outputs": [
    {
     "ename": "TypeError",
     "evalue": "x must be an integer",
     "output_type": "error",
     "traceback": [
      "\u001b[0;31m---------------------------------------------------------------------------\u001b[0m",
      "\u001b[0;31mTypeError\u001b[0m                                 Traceback (most recent call last)",
      "\u001b[0;32m<ipython-input-21-793bcf73d38e>\u001b[0m in \u001b[0;36m<module>\u001b[0;34m()\u001b[0m\n\u001b[0;32m----> 1\u001b[0;31m \u001b[0mf\u001b[0m\u001b[0;34m(\u001b[0m\u001b[0;36m3.0\u001b[0m\u001b[0;34m)\u001b[0m\u001b[0;34m\u001b[0m\u001b[0m\n\u001b[0m",
      "\u001b[0;32m<ipython-input-19-74074062d95a>\u001b[0m in \u001b[0;36mf\u001b[0;34m(x)\u001b[0m\n\u001b[1;32m      1\u001b[0m \u001b[0;32mdef\u001b[0m \u001b[0mf\u001b[0m\u001b[0;34m(\u001b[0m\u001b[0mx\u001b[0m\u001b[0;34m:\u001b[0m \u001b[0mint\u001b[0m\u001b[0;34m)\u001b[0m \u001b[0;34m->\u001b[0m \u001b[0mint\u001b[0m\u001b[0;34m:\u001b[0m\u001b[0;34m\u001b[0m\u001b[0m\n\u001b[1;32m      2\u001b[0m     \u001b[0;32mif\u001b[0m \u001b[0;32mnot\u001b[0m \u001b[0misinstance\u001b[0m\u001b[0;34m(\u001b[0m\u001b[0mx\u001b[0m\u001b[0;34m,\u001b[0m \u001b[0mint\u001b[0m\u001b[0;34m)\u001b[0m\u001b[0;34m:\u001b[0m\u001b[0;34m\u001b[0m\u001b[0m\n\u001b[0;32m----> 3\u001b[0;31m         \u001b[0;32mraise\u001b[0m \u001b[0mTypeError\u001b[0m\u001b[0;34m(\u001b[0m\u001b[0;34m\"x must be an integer\"\u001b[0m\u001b[0;34m)\u001b[0m\u001b[0;34m\u001b[0m\u001b[0m\n\u001b[0m\u001b[1;32m      4\u001b[0m     \u001b[0;32melse\u001b[0m\u001b[0;34m:\u001b[0m\u001b[0;34m\u001b[0m\u001b[0m\n\u001b[1;32m      5\u001b[0m         \u001b[0;32mreturn\u001b[0m \u001b[0mx\u001b[0m \u001b[0;34m**\u001b[0m \u001b[0;36m2\u001b[0m\u001b[0;34m\u001b[0m\u001b[0m\n",
      "\u001b[0;31mTypeError\u001b[0m: x must be an integer"
     ]
    }
   ],
   "source": [
    "f(3.0)"
   ]
  },
  {
   "cell_type": "markdown",
   "metadata": {},
   "source": [
    "のようにすればよいでしょう．関数はdefを使って定義すると関数の名前が与えられます．名無しの関数として利用できる lambda式も便利です．"
   ]
  },
  {
   "cell_type": "code",
   "execution_count": 22,
   "metadata": {
    "collapsed": true
   },
   "outputs": [],
   "source": [
    "g = lambda x: x**2"
   ]
  },
  {
   "cell_type": "code",
   "execution_count": 23,
   "metadata": {
    "collapsed": false
   },
   "outputs": [
    {
     "data": {
      "text/plain": [
       "(4, 9.0, (12+16j))"
      ]
     },
     "execution_count": 23,
     "metadata": {},
     "output_type": "execute_result"
    }
   ],
   "source": [
    "g(2), g(3.0), g(4.0+2.j)"
   ]
  },
  {
   "cell_type": "markdown",
   "metadata": {},
   "source": [
    "関数の返り値の個数は特に制限されておらず，returnがない場合はNoneが返ります．"
   ]
  },
  {
   "cell_type": "code",
   "execution_count": 24,
   "metadata": {
    "collapsed": false
   },
   "outputs": [
    {
     "name": "stdout",
     "output_type": "stream",
     "text": [
      "Hello 2\n",
      "(2, 4, 8) None\n"
     ]
    }
   ],
   "source": [
    "def f(x):\n",
    "    return x, x**2, x**3\n",
    "def g(x):\n",
    "    print(\"Hello\", x)\n",
    "x = f(2)\n",
    "y = g(2)\n",
    "print(x,y)"
   ]
  },
  {
   "cell_type": "markdown",
   "metadata": {},
   "source": [
    "python 2系においてprintは正式な関数でなく\n",
    "    \n",
    "    print \"Hello World\"\n",
    "\n",
    "のように記述することができましたが，python 3ではprintは正式な関数になった為括弧を明記する必要があります．\n",
    "python 2系であってもpython3系と同様に括弧を付けて記述することができるので，python2系を使う場合であっても括弧を明記したほうが移植性が高まります．"
   ]
  },
  {
   "cell_type": "markdown",
   "metadata": {},
   "source": [
    "## 数値リテラル，フォーマット等\n",
    "\n",
    "さっくりと必要そうなリテラルと，フォーマットを紹介します．\n",
    "\n",
    "文字列の出力は"
   ]
  },
  {
   "cell_type": "code",
   "execution_count": 25,
   "metadata": {
    "collapsed": false
   },
   "outputs": [
    {
     "name": "stdout",
     "output_type": "stream",
     "text": [
      "x=7, y=0.333000, z=abc\n"
     ]
    }
   ],
   "source": [
    "x,y,z = 7, 0.333, \"abc\"\n",
    "print(\"x=%d, y=%f, z=%s\" %  (x,y,z))"
   ]
  },
  {
   "cell_type": "markdown",
   "metadata": {},
   "source": [
    "のようにすることができます．代表的なフォーマットは\n",
    "\n",
    "    %d ・・・ 整数\n",
    "    %f  ・・・ 浮動小数点\n",
    "    %e ・・・ 浮動小数点を指数表記\n",
    "    %s ・・・ 文字列(実は何でも可)\n",
    "\n",
    "です．正確なことは[4.7.2. printf 形式の文字列書式化](http://docs.python.jp/3.5/library/stdtypes.html#printf-style-string-formatting)を参照下さい．\n",
    "\n",
    "桁数の変更はC言語やらと同じで"
   ]
  },
  {
   "cell_type": "code",
   "execution_count": 26,
   "metadata": {
    "collapsed": false
   },
   "outputs": [
    {
     "name": "stdout",
     "output_type": "stream",
     "text": [
      "1/3=0.333333\n",
      "1/3=3.333333e-01\n",
      "1/3=0.33333333333333331483\n"
     ]
    }
   ],
   "source": [
    "print(\"1/3=%f\" % (1/3))\n",
    "print(\"1/3=%e\" % (1/3))\n",
    "print(\"1/3=%.20f\" % (1/3))"
   ]
  },
  {
   "cell_type": "markdown",
   "metadata": {},
   "source": [
    "ここでe-01は $10^{-1}$ のこと．\n",
    "なお仮数部とか指数部とか聞いたことがなければ[wikipedia](https://ja.wikipedia.org/wiki/%E4%BB%AE%E6%95%B0)を参照下さい．\n",
    "またpythonの浮動小数点は[倍精度](https://ja.wikipedia.org/wiki/%E5%80%8D%E7%B2%BE%E5%BA%A6%E6%B5%AE%E5%8B%95%E5%B0%8F%E6%95%B0%E7%82%B9%E6%95%B0)．"
   ]
  },
  {
   "cell_type": "code",
   "execution_count": 27,
   "metadata": {
    "collapsed": false
   },
   "outputs": [
    {
     "name": "stdout",
     "output_type": "stream",
     "text": [
      "1e-20\n",
      "0.000000\n",
      "1.000000e-20\n"
     ]
    }
   ],
   "source": [
    "x = 1e-20 # (1* 10**(-20))\n",
    "print(x)\n",
    "print(\"%f\" % x) # 指数関数的に小さい値は0と出力される\n",
    "print(\"%e\" %x)"
   ]
  },
  {
   "cell_type": "code",
   "execution_count": 28,
   "metadata": {
    "collapsed": false
   },
   "outputs": [
    {
     "name": "stdout",
     "output_type": "stream",
     "text": [
      "3\n",
      "0000003\n"
     ]
    }
   ],
   "source": [
    "print(\"%d\" % 3)\n",
    "print(\"%07d\" % 3)"
   ]
  },
  {
   "cell_type": "markdown",
   "metadata": {},
   "source": [
    "の様にすることができる．なお%フォーマットが１つのみの場合括弧は省略できるが，何らかの演算を行う場合は括弧が必要．\n",
    "また，%sは非常に便利で任意のオブジェクトを出力可能"
   ]
  },
  {
   "cell_type": "code",
   "execution_count": 29,
   "metadata": {
    "collapsed": false
   },
   "outputs": [
    {
     "name": "stdout",
     "output_type": "stream",
     "text": [
      "3 0.3333333333333333 1e-20\n",
      "3 0.3333333333333333 1e-20\n"
     ]
    }
   ],
   "source": [
    "print(\"%s %s %s\" % (3, 1/3, 1e-20))\n",
    "# 同じことだが下記の様にしても便利\n",
    "res = \"%s %s %s\" % (3, 1/3, 1e-20)\n",
    "print(res)"
   ]
  },
  {
   "cell_type": "code",
   "execution_count": 30,
   "metadata": {
    "collapsed": false
   },
   "outputs": [
    {
     "name": "stdout",
     "output_type": "stream",
     "text": [
      "<built-in function print> <function f at 0x7f9ce41c81e0> (1+2j) [] {}\n"
     ]
    }
   ],
   "source": [
    "res = \"%s %s %s %s %s\" % (print,f , 1+2j, [], {} )\n",
    "print(res)"
   ]
  },
  {
   "cell_type": "markdown",
   "metadata": {},
   "source": [
    "文字列は整数値の乗法演算，文字列の加法演算が定義されている"
   ]
  },
  {
   "cell_type": "code",
   "execution_count": 31,
   "metadata": {
    "collapsed": false
   },
   "outputs": [
    {
     "name": "stdout",
     "output_type": "stream",
     "text": [
      "abcabc\n",
      "abcdef\n"
     ]
    }
   ],
   "source": [
    "a = \"abc\"\n",
    "print(a*2)\n",
    "print(a + \"def\")"
   ]
  },
  {
   "cell_type": "markdown",
   "metadata": {},
   "source": [
    "## import \n",
    "\n",
    "数学における初等関数や無理数はmath もしく数学は numpy のpackageを読み込むことで使えます．\n",
    "パッケージの呼び出しは"
   ]
  },
  {
   "cell_type": "code",
   "execution_count": 32,
   "metadata": {
    "collapsed": true
   },
   "outputs": [],
   "source": [
    "import math"
   ]
  },
  {
   "cell_type": "code",
   "execution_count": 33,
   "metadata": {
    "collapsed": false
   },
   "outputs": [
    {
     "data": {
      "text/plain": [
       "(0.9092974268256817, 1.4142135623730951, 3.141592653589793)"
      ]
     },
     "execution_count": 33,
     "metadata": {},
     "output_type": "execute_result"
    }
   ],
   "source": [
    "math.sin(2), math.sqrt(2), math.pi"
   ]
  },
  {
   "cell_type": "markdown",
   "metadata": {},
   "source": [
    "です．anacondaを使っている場合はデフォルトでnumpyがインストールされており"
   ]
  },
  {
   "cell_type": "code",
   "execution_count": 34,
   "metadata": {
    "collapsed": true
   },
   "outputs": [],
   "source": [
    "import numpy as np"
   ]
  },
  {
   "cell_type": "code",
   "execution_count": 35,
   "metadata": {
    "collapsed": false
   },
   "outputs": [
    {
     "data": {
      "text/plain": [
       "(0.90929742682568171, 1.4142135623730951, 3.141592653589793)"
      ]
     },
     "execution_count": 35,
     "metadata": {},
     "output_type": "execute_result"
    }
   ],
   "source": [
    "np.sin(2), np.sqrt(2),np.pi"
   ]
  },
  {
   "cell_type": "markdown",
   "metadata": {},
   "source": [
    "として使うことができます． as を使うことでパッケージ名を好きな名前で使うことができます．\n",
    "特定の関数だけ読み込みたい場合は"
   ]
  },
  {
   "cell_type": "code",
   "execution_count": 36,
   "metadata": {
    "collapsed": true
   },
   "outputs": [],
   "source": [
    "from math import cos"
   ]
  },
  {
   "cell_type": "code",
   "execution_count": 37,
   "metadata": {
    "collapsed": false
   },
   "outputs": [
    {
     "data": {
      "text/plain": [
       "-0.9899924966004454"
      ]
     },
     "execution_count": 37,
     "metadata": {},
     "output_type": "execute_result"
    }
   ],
   "source": [
    "cos(3)"
   ]
  },
  {
   "cell_type": "markdown",
   "metadata": {},
   "source": [
    "とします．名前を変えたい場合は"
   ]
  },
  {
   "cell_type": "code",
   "execution_count": 38,
   "metadata": {
    "collapsed": true
   },
   "outputs": [],
   "source": [
    "from math import acos as arccos"
   ]
  },
  {
   "cell_type": "code",
   "execution_count": 39,
   "metadata": {
    "collapsed": false
   },
   "outputs": [
    {
     "data": {
      "text/plain": [
       "1.2661036727794992"
      ]
     },
     "execution_count": 39,
     "metadata": {},
     "output_type": "execute_result"
    }
   ],
   "source": [
    "arccos(0.3)"
   ]
  },
  {
   "cell_type": "markdown",
   "metadata": {},
   "source": [
    "とします．電卓として使う分にはこの程度で十分でしょう．\n",
    "\n",
    "*注意* \n",
    "\n",
    "    from math import *\n",
    "    from numpy imoprt *\n",
    "\n",
    "とすると math 及び numpy packageで定義されている関数をすべてパッケージ名無しにimport します．\n",
    "この様にしてimport すると mathとnumpy で関数名が重複している場合，前者の関数が上書きされます．\n",
    "具体的な悪例として"
   ]
  },
  {
   "cell_type": "code",
   "execution_count": 40,
   "metadata": {
    "collapsed": false
   },
   "outputs": [
    {
     "name": "stdout",
     "output_type": "stream",
     "text": [
      "3.141592653589793238462643383279502884197 0.8414709848078965066525023216302989996226\n",
      "3.141592653589793 0.841470984808\n"
     ]
    }
   ],
   "source": [
    "from mpmath import * # 任意精度演算package\n",
    "mp.dps = 40 # 仮数部 40 桁 で評価\n",
    "print(pi, sin(1)) \n",
    "from numpy import *\n",
    "print(pi,sin(1))"
   ]
  },
  {
   "cell_type": "markdown",
   "metadata": {},
   "source": [
    "とすると 多倍長評価の為に mpmathパッケージを使っているにもかかわらず，関数，定数名(ここではpi)がnumpy (倍精度) で上書きされます．\n",
    "import文は必ずしも最初に行なわれるとは限らず，プログラムが長くなるとバグの同定が困難になります．"
   ]
  },
  {
   "cell_type": "markdown",
   "metadata": {},
   "source": [
    "## help\n",
    "\n",
    "ipython の対話的環境であればhelpコマンドより関数等の説明を見ることができる．例えば非常に長い説明が現れる．"
   ]
  },
  {
   "cell_type": "code",
   "execution_count": 41,
   "metadata": {
    "collapsed": false
   },
   "outputs": [
    {
     "name": "stdout",
     "output_type": "stream",
     "text": [
      "Help on built-in function abs in module builtins:\n",
      "\n",
      "abs(x, /)\n",
      "    Return the absolute value of the argument.\n",
      "\n"
     ]
    }
   ],
   "source": [
    "help(abs)"
   ]
  },
  {
   "cell_type": "markdown",
   "metadata": {},
   "source": [
    "absは絶対値を返す関数賭して定義されている．これくらい短い定義であれば読みやすいが例えばintと言う実態が何か聞くと\n",
    "```\n",
    ">>> help(int)\n",
    "```\n",
    "それはclassであることが分かる．\n",
    "```\n",
    "class int(object)\n",
    " |  int(x=0) -> integer\n",
    " |  int(x, base=10) -> integer\n",
    " |  \n",
    " |  Convert a number or string to an integer, or return 0 if no arguments\n",
    " |  are given.  If x is a number, return x.__int__().  For floating point\n",
    " |  numbers, this truncates towards zero.\n",
    " |  \n",
    " |  If x is not a number or if base is given, then x must be a string,\n",
    " |  bytes, or bytearray instance representing an integer literal in the\n",
    " |  given base.  The literal can be preceded by '+' or '-' and be surrounded\n",
    " |  by whitespace.  The base defaults to 10.  Valid bases are 0 and 2-36.\n",
    " |  Base 0 means to interpret the base from the string as an integer literal.\n",
    " |  >>> int('0b100', base=0)\n",
    " |  4\n",
    " |  \n",
    " |  Methods defined here:\n",
    " |\n",
    " | (省略)\n",
    "```\n",
    "\n",
    "基本的に定義は上部書かれており，続いて説明や例題が言及されている．説明を読むとintは数もしくは文字(string)をある整数に変換すると書かれている．実際に実行してみると"
   ]
  },
  {
   "cell_type": "code",
   "execution_count": 42,
   "metadata": {
    "collapsed": false
   },
   "outputs": [
    {
     "data": {
      "text/plain": [
       "(2, 123)"
      ]
     },
     "execution_count": 42,
     "metadata": {},
     "output_type": "execute_result"
    }
   ],
   "source": [
    "int(2),int(\"123\")"
   ]
  },
  {
   "cell_type": "markdown",
   "metadata": {},
   "source": [
    "となり，数以外を代入してみようとすると"
   ]
  },
  {
   "cell_type": "code",
   "execution_count": 43,
   "metadata": {
    "collapsed": false
   },
   "outputs": [
    {
     "ename": "ValueError",
     "evalue": "invalid literal for int() with base 10: 'a'",
     "output_type": "error",
     "traceback": [
      "\u001b[0;31m---------------------------------------------------------------------------\u001b[0m",
      "\u001b[0;31mValueError\u001b[0m                                Traceback (most recent call last)",
      "\u001b[0;32m<ipython-input-43-91097a4105a2>\u001b[0m in \u001b[0;36m<module>\u001b[0;34m()\u001b[0m\n\u001b[0;32m----> 1\u001b[0;31m \u001b[0mint\u001b[0m\u001b[0;34m(\u001b[0m\u001b[0;34m\"a\"\u001b[0m\u001b[0;34m)\u001b[0m\u001b[0;34m\u001b[0m\u001b[0m\n\u001b[0m",
      "\u001b[0;31mValueError\u001b[0m: invalid literal for int() with base 10: 'a'"
     ]
    }
   ],
   "source": [
    "int(\"a\")"
   ]
  },
  {
   "cell_type": "markdown",
   "metadata": {},
   "source": [
    "と怒られる．\n",
    "\n",
    "Methods defines here:以下にはint object メソット (関数のようなもの)の説明があり，例えばint object に加法(+)の演算を施した際の定義式は\n",
    "\n",
    "```\n",
    " |  __add__(self, value, /)\n",
    " |      Return self+value.\n",
    "```\n",
    "とで定義されている．selfはいま注目しているint objectを指し，そのint object に (+) value を施した際には self + value を評価して返しなさいという意味である．当たり前のようであるが，演算子は時と場合によって定義が変わってくるためこのような定義が必要となる．\n",
    "ここではクラスの説明をしなければならないのでこれ以上深く踏み込まないがhelpが読めるようになると，何かと便利であり，自身で何か関数やクラスを定義する際にはこのようなhelpを書けるようになることが望ましい．"
   ]
  },
  {
   "cell_type": "markdown",
   "metadata": {},
   "source": [
    "## スクリプトとして実行する\n",
    "\n",
    "さて以上の議論はpythonもしくはipythonの対話環境を前提として話を進めた．しかし，少し複雑なプログラムになると何らかのテキストエディタでプログラムを組んで実行させた方が都合が良い場合がある．\n",
    "\n",
    "例えば，\n",
    "\n",
    "```\n",
    "print(\"Hello world!\")\n",
    "```\n",
    "\n",
    "を適当なエディタで書き込んで，hello.pyというファイル名で保存し実行する際には\n",
    "\n",
    "```\n",
    "$ python hello.py\n",
    "```\n",
    "\n",
    "とすれば実行される．"
   ]
  }
 ],
 "metadata": {
  "kernelspec": {
   "display_name": "Python 3",
   "language": "python",
   "name": "python3"
  },
  "language_info": {
   "codemirror_mode": {
    "name": "ipython",
    "version": 3
   },
   "file_extension": ".py",
   "mimetype": "text/x-python",
   "name": "python",
   "nbconvert_exporter": "python",
   "pygments_lexer": "ipython3",
   "version": "3.5.2"
  }
 },
 "nbformat": 4,
 "nbformat_minor": 0
}
