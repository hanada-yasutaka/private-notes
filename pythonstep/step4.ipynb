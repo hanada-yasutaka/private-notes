{
 "cells": [
  {
   "cell_type": "markdown",
   "metadata": {},
   "source": [
    "# step4: 簡単な常微分方程式を解く\n",
    "\n",
    "## 1次の陽的オイラー法\n",
    "\n",
    "一階の常微分方程式\n",
    "\n",
    "$$\n",
    "\\frac{dx}{dt} = f(x) \\tag{1}\n",
    "$$\n",
    "を考える．\n",
    "\n",
    "時刻$t$での解$x(t)$が与えられているして，微小時間$h$後の解$x(t+h)$はテイラー展開\n",
    "$$\n",
    "x(t+h) = x(t) + h \\frac{dx(t)}{dt}\\ + \\mathcal{O}(h^2) \n",
    "$$\n",
    "によって与えられる．$x(t)=x_n$から時刻 $x(t+h)=x_{n+1}$ とおき，$h$の一次のオーダーで打ち切ると\n",
    "\n",
    "$$\n",
    "x_{n+1} = x_n + h f(x_n)\\tag{2}\n",
    "$$\n",
    "\n",
    "として与えられる．右辺が時刻$t=n$のみで決まるため1次の陽的解法であり，特に(2)は陽的オイラー法と呼ばれる．\n",
    "数値解は(2)式の反復によって得られる．\n"
   ]
  },
  {
   "cell_type": "markdown",
   "metadata": {},
   "source": [
    "### 例題\n",
    "\n",
    "#### １階の微分方程式 (準備中)\n",
    "\n",
    "$$\n",
    "\\frac{dx}{dt}=f(x)\n",
    "$$\n",
    "\n",
    "を解く．"
   ]
  },
  {
   "cell_type": "markdown",
   "metadata": {},
   "source": [
    "#### 2階の微分方程式\n",
    "\n",
    "重りの質量を$m$，の自然長からの変位を$q$，バネ定数を$k$とするとニュートンの運動方程式は\n",
    "$$\n",
    "m \\frac{d^2q}{dt^2} = -kq\n",
    "$$\n",
    "である．運動量$p=m\\frac{dq}{dt}$を導入すれば，１階の微分方程式系\n",
    "$$\n",
    "\\frac{dq}{dt} = p,\\quad\n",
    "\\frac{dp}{dt} = -\\omega^2 q \\tag{3}\n",
    "$$\n",
    "となる．以下簡単のため為$\\omega=\\sqrt{\\frac{k}{m}}=1$としておく．\n",
    "\n",
    "陽的オイラー法を(3)式に適用すると\n",
    "$$\n",
    "q_{n+1} = q_{n} + h p_{n},\\quad\n",
    "p_{n+1}  = p_{n} -h q_{n}\n",
    "$$\n",
    "が得られる．\n",
    "\n",
    "$x=(q, p)$としてオイラー法は次の様に定義しよう．"
   ]
  },
  {
   "cell_type": "code",
   "execution_count": 1,
   "metadata": {
    "collapsed": false
   },
   "outputs": [],
   "source": [
    "import numpy as np\n",
    "\n",
    "def ExplicitEular(x ,h):\n",
    "    qq = x[0] + x[1] * h\n",
    "    pp = x[1] - x[0] * h\n",
    "    return np.array([qq, pp])"
   ]
  },
  {
   "cell_type": "markdown",
   "metadata": {},
   "source": [
    "初期条件$x_0$，$h$，反復回数を定める．"
   ]
  },
  {
   "cell_type": "code",
   "execution_count": 2,
   "metadata": {
    "collapsed": true
   },
   "outputs": [],
   "source": [
    "x0 = np.array([1,0])\n",
    "h = 0.1\n",
    "itermax = 5"
   ]
  },
  {
   "cell_type": "markdown",
   "metadata": {},
   "source": [
    "数値解を求める"
   ]
  },
  {
   "cell_type": "code",
   "execution_count": 3,
   "metadata": {
    "collapsed": false
   },
   "outputs": [
    {
     "name": "stdout",
     "output_type": "stream",
     "text": [
      "0 [1 0]\n",
      "1 [ 1.  -0.1]\n",
      "2 [ 0.99 -0.2 ]\n",
      "3 [ 0.97  -0.299]\n",
      "4 [ 0.9401 -0.396 ]\n"
     ]
    }
   ],
   "source": [
    "x = x0.copy()\n",
    "for i in range(itermax):\n",
    "    t = 0 + i * h\n",
    "    print(i, x)\n",
    "    x = ExplicitEular(x, h)"
   ]
  },
  {
   "cell_type": "markdown",
   "metadata": {},
   "source": [
    "数値だけ見ていてもよくわからないので得られたデータをグラフにする．"
   ]
  },
  {
   "cell_type": "code",
   "execution_count": 4,
   "metadata": {
    "collapsed": false
   },
   "outputs": [],
   "source": [
    "import matplotlib.pyplot as plt"
   ]
  },
  {
   "cell_type": "code",
   "execution_count": 5,
   "metadata": {
    "collapsed": false
   },
   "outputs": [
    {
     "data": {
      "image/png": "[encoded data removed]",
      "text/plain": [
       "<matplotlib.figure.Figure at 0x7f9b090126a0>"
      ]
     },
     "metadata": {},
     "output_type": "display_data"
    }
   ],
   "source": [
    "fig, ax = plt.subplots(1,1,figsize=(5,5))\n",
    "x = x0.copy()\n",
    "itermax = 100\n",
    "for i in range(itermax):\n",
    "    ax.plot(x[0], x[1], '.')\n",
    "    x = ExplicitEular(x, h)\n",
    "ax.set_xlim(-1.5,1.5) # x軸の幅\n",
    "ax.set_ylim(-1.5,1.5) # y軸の幅\n",
    "plt.show() # グラフを表示"
   ]
  },
  {
   "cell_type": "markdown",
   "metadata": {
    "collapsed": true
   },
   "source": [
    "この方法では，計算しながら描画するため時間が掛かる．そのため時系列を一つの配列に格納して描画したほうが早く計算が終わる．"
   ]
  },
  {
   "cell_type": "code",
   "execution_count": 6,
   "metadata": {
    "collapsed": false
   },
   "outputs": [
    {
     "data": {
      "image/png": "[encoded data removed]",
      "text/plain": [
       "<matplotlib.figure.Figure at 0x7f9b058a0c50>"
      ]
     },
     "metadata": {},
     "output_type": "display_data"
    }
   ],
   "source": [
    "fig, ax = plt.subplots(1,1, figsize=(5,5))\n",
    "x = x0.copy()\n",
    "traj = [np.array([]), np.array([])]\n",
    "ax.plot(x[0],x[1], 'o' ,markersize=10, label=\"initial\")\n",
    "for i in range(itermax):\n",
    "    traj[0] = np.append(traj[0], x[0])\n",
    "    traj[1] = np.append(traj[1], x[1])    \n",
    "    x = ExplicitEular(x, h)\n",
    "\n",
    "ax.plot(traj[0], traj[1], '.')\n",
    "ax.legend(loc = 1)\n",
    "ax.set_xlim(-1.5, 1.5)\n",
    "ax.set_ylim(-1.5, 1.5)\n",
    "plt.show()"
   ]
  },
  {
   "cell_type": "markdown",
   "metadata": {},
   "source": [
    "**Note:** \n",
    "\n",
    "調和振動子の解曲線はエネルギー保存の為閉曲線をなすが，数値解は軌道が螺旋を描いて無限遠へ飛び去る．\n",
    "これはバグではなく，陽的オイラー法の正しい挙動である．\n"
   ]
  },
  {
   "cell_type": "markdown",
   "metadata": {},
   "source": [
    "## 1次の陰的オイラー法\n",
    "\n",
    "(1)の微分方程式に対して，\n",
    "時刻$t$での解$x(t)$が与えられているして，微小時間$h$だけ前の解を$x(t-h)$としてテイラー展開すれば\n",
    "\n",
    "$$\n",
    "x(t)= x(t-h) + h\\frac{dx(t)}{dt} + \\mathcal{O}(h^2)\n",
    "$$\n",
    "が得られる．$x(t-h)=x_n$，$x(t)=x_{n+1}$として\n",
    "$$\n",
    "x_{n+1} = x_n + h f(x_{n+1})\\tag{4}\n",
    "$$\n",
    "となる．右辺に$x_{n+1}$が有るため一般に方程式は陽に解くことは出来ない．そのため陰的解法と呼ばれ，特に(4)は陰的オイラー法と呼ばれる\n",
    "\n",
    "### 例題\n",
    "\n",
    "調和振動子の場合，陰的オイラー法はexplicitに解くことがでる．(4)を適用すると\n",
    "\n",
    "$$\n",
    "q_{n+1} = q_{n} + h p_{n+1}, \\quad\n",
    "p_{n+1}  = p_{n} + h q_{n+1}\n",
    "$$\n",
    "\n",
    "であり左の式を右の式に代入すると\n",
    "\n",
    "$$\n",
    "p_{n+1} = (p_{n} - hq_n)/(1+h^2),\\quad\n",
    "q_{n+1} = q_n + h p_{n+1}\n",
    "$$\n",
    "\n",
    "が得られ，故に陽に解くことができる．"
   ]
  },
  {
   "cell_type": "code",
   "execution_count": 7,
   "metadata": {
    "collapsed": true
   },
   "outputs": [],
   "source": [
    "import numpy as np\n",
    "\n",
    "def ImplicitEular(x, h):\n",
    "    pp = (x[1] - h * x[0]) /(1 + h ** 2)\n",
    "    qq = x[0] + h*pp\n",
    "    return np.array([qq, pp])"
   ]
  },
  {
   "cell_type": "code",
   "execution_count": 8,
   "metadata": {
    "collapsed": false
   },
   "outputs": [
    {
     "data": {
      "image/png": "[encoded data removed]",
      "text/plain": [
       "<matplotlib.figure.Figure at 0x7f9b05839748>"
      ]
     },
     "metadata": {},
     "output_type": "display_data"
    }
   ],
   "source": [
    "fig, ax = plt.subplots(1,1, figsize=(5,5))\n",
    "x = x0.copy()\n",
    "itermax=300\n",
    "traj = [np.array([]), np.array([])]\n",
    "ax.plot(x[0], x[1], 'o' ,markersize=10, label=\"initial\")\n",
    "for i in range(itermax):\n",
    "    traj[0] = np.append(traj[0], x[0])\n",
    "    traj[1] = np.append(traj[1], x[1])    \n",
    "    x = ImplicitEular(x, h)\n",
    "\n",
    "ax.plot(traj[0], traj[1], '.')\n",
    "ax.legend(loc = 1)\n",
    "ax.set_xlim(-1.5, 1.5)\n",
    "ax.set_ylim(-1.5, 1.5)\n",
    "plt.show()"
   ]
  },
  {
   "cell_type": "markdown",
   "metadata": {},
   "source": [
    "**Note:**\n",
    "\n",
    "陽的オイラー法では軌道は無限遠へ飛び去ったが，陰的オイラー法では軌道は原点に向かって落ちてゆく．数値積分法が摩擦を生んでいるのである．"
   ]
  },
  {
   "cell_type": "markdown",
   "metadata": {
    "collapsed": true
   },
   "source": [
    "## 1次のsymplectic integrator\n",
    "\n",
    "$p$ に対して陽的オイラー法，$q$について陰的オイラー法を適用する（逆でも構わない）と，\n",
    "\n",
    "$$\n",
    "p_{n+1}  = p_{n} - h q_n,\\quad\n",
    "q_{n+1}  = q_{n} + h p_{n+1}\n",
    "$$\n",
    "\n",
    "である．この解法はシンプレクティック オイラー法と呼ばれる"
   ]
  },
  {
   "cell_type": "code",
   "execution_count": 9,
   "metadata": {
    "collapsed": false
   },
   "outputs": [],
   "source": [
    "import numpy as np\n",
    "\n",
    "def SymplecticEular(x, h):\n",
    "    qq = x[0] + x[1] * h\n",
    "    pp = x[1] - qq * h\n",
    "    return [qq, pp]"
   ]
  },
  {
   "cell_type": "code",
   "execution_count": 10,
   "metadata": {
    "collapsed": false
   },
   "outputs": [
    {
     "data": {
      "image/png": "[encoded data removed]",
      "text/plain": [
       "<matplotlib.figure.Figure at 0x7f9b057d2a20>"
      ]
     },
     "metadata": {},
     "output_type": "display_data"
    }
   ],
   "source": [
    "alignfig, ax = plt.subplots(1,1,figsize=(5,5))\n",
    "x = x0.copy()\n",
    "itermax = 200\n",
    "traj = [np.array([]), np.array([])]\n",
    "ax.plot(x[0],x[1], 'o' ,markersize=10, label=\"initial\")\n",
    "for i in range(itermax):\n",
    "    traj[0] = np.append(traj[0],x[0])\n",
    "    traj[1] = np.append(traj[1],x[1])    \n",
    "    x = SymplecticEular(x, h)\n",
    "\n",
    "ax.plot(traj[0], traj[1], '.')\n",
    "ax.legend(loc=1)\n",
    "ax.set_xlim(-1.5, 1.5)\n",
    "ax.set_ylim(-1.5, 1.5)\n",
    "plt.show()"
   ]
  },
  {
   "cell_type": "markdown",
   "metadata": {},
   "source": [
    "**Note:**\n",
    "\n",
    "$h\\gt2$や$h=1$といった特別な場合を除き，シンプレクティック オイラー法による調和振動子系の数値解は閉曲線を稠密に埋める．\n",
    "その理由の一つとして，シンプレクティック法はシンプレクティック形式を保存，すなわち\n",
    "\n",
    "\\begin{equation}\n",
    "dp_{n+1}\\wedge dq_{n+1} = dp_{n}\\wedge dq_{n}\n",
    "\\end{equation}\n",
    "\n",
    "が成立しているからである．ただし，シンプレクティック形式を保存していれば閉曲線が得られるとは限られず，一般のハミルトン系ではカオス運動の出現に悩まされる事になる．\n",
    "\n",
    "陽的解法や陰的解法で軌道が発散したりある値に収束したりする理由はヤコビ行列式が1ではないためであるが，その大きさは互いに逆数の関係にある．\n",
    "故に，ハミルトニアン$H(q,p)$に対して陽的解法と陰的解法を組み合わせることでシンプレクティック形式を保存する数値積分法を一般に構成できる．\n",
    "一般に陽的に構成できるとは限らないが，ハミルトニアンが$H(q,p) = T(p) + V(q)$のように分離されている場合は，陽に任意の次数の数値積分法を構成することができる．\n",
    "\n",
    "解くべき微分方程式が持つ保存量や対称性が，数値積分法でも保存されているということは一般にありえない．\n",
    "故にシンプレクティック積分法のように，方程式がもつ対称性や保存量が保存する数値積分法を開発することは極めて重要な課題である.\n",
    "ハミルトン系で重要な性質は，全エネルギーならびにシンプレクティック形式$dp\\wedge dq$の保存である．\n",
    "故に$H=const$，$dp\\wedge dq =const$を満たす数値積分法の開発が期待されるが，一般のハミルトン系(非可積分系)ではそのような数値積分法は存在しないことが指摘されている$^1$．(このステイトメントは2から引用したものであり原典は確認していない．)\n",
    "\n",
    "私はこの周辺に詳しくないが，Hairer$^3$らは数値積分法が保存する構造を議論し，Backward error analysis という考え方を用いた手法で数値解の意味づけが行われいる．2,3の文献は非常に教育的であり強くお勧めする．\n",
    "\n",
    "1. Z. Ge, and J. E. Marsden, \"Lie-poisson Hamilton-Jacobitheory and Lie,Polsson integrators\" Phys. Lett. A 133,134-139 (1988)\n",
    "2. 吉田春夫, [ハミルトン力学系のためのシンプレクティック数値解法](http://jglobal.jst.go.jp/public/20090422/200902156128764714) (1999)\n",
    "3. E. Hairer, C. Lubich, G. Wanner, \"Geometric Numerical Integration\" Springer (2006)"
   ]
  },
  {
   "cell_type": "markdown",
   "metadata": {
    "collapsed": true
   },
   "source": [
    "**todo:**\n",
    "\n",
    "高階のintegratorの実装"
   ]
  }
 ],
 "metadata": {
  "kernelspec": {
   "display_name": "Python 3",
   "language": "python",
   "name": "python3"
  },
  "language_info": {
   "codemirror_mode": {
    "name": "ipython",
    "version": 3
   },
   "file_extension": ".py",
   "mimetype": "text/x-python",
   "name": "python",
   "nbconvert_exporter": "python",
   "pygments_lexer": "ipython3",
   "version": "3.5.2"
  }
 },
 "nbformat": 4,
 "nbformat_minor": 0
}
